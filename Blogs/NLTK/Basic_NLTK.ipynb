{
 "cells": [
  {
   "cell_type": "markdown",
   "metadata": {},
   "source": [
    "# Basics Of NLTK\n"
   ]
  },
  {
   "cell_type": "markdown",
   "metadata": {},
   "source": [
    "Lets Start By Importing all The things that we need"
   ]
  },
  {
   "cell_type": "code",
   "execution_count": 1,
   "metadata": {},
   "outputs": [],
   "source": [
    "import nltk\n",
    "from nltk.tokenize import sent_tokenize , word_tokenize\n",
    "from nltk.stem import WordNetLemmatizer\n",
    "from nltk.corpus import stopwords\n",
    "from nltk import pos_tag"
   ]
  },
  {
   "cell_type": "markdown",
   "metadata": {},
   "source": [
    "Now, We have all we need so let us make a string on which we will apply all the above methods and see their results"
   ]
  },
  {
   "cell_type": "code",
   "execution_count": 2,
   "metadata": {},
   "outputs": [],
   "source": [
    "testString = 'First, we must be good stewards of this economy, and renew the great institutions on which millions of our fellow citizens rely. \\\n",
    "\t\t\t   America\\'s economy is the fastest growing of any major industrialized nation. In the past four years, \\\n",
    "\t\t\t   we provided tax relief to every person who pays income taxes, overcome a recession, opened up new markets abroad,\\\n",
    "\t\t\t   prosecuted corporate criminals, raised homeownership to its highest level in history, and in the last year alone, \\\n",
    "\t\t\t   the United States has added 2.3 million new jobs. (Applause.) When action was needed, the Congress delivered -- and the nation is grateful.'\n",
    "\n"
   ]
  },
  {
   "cell_type": "markdown",
   "metadata": {},
   "source": [
    "Lets start by Tokenizing i.e, converting a text into a list of words(or tokens) "
   ]
  },
  {
   "cell_type": "code",
   "execution_count": 4,
   "metadata": {},
   "outputs": [],
   "source": [
    "def tokenizeIntoSentencesAndWords(testString,doPrint):\n",
    "\ttokenized_sentences = sent_tokenize(testString)\n",
    "\ttokenized_words = word_tokenize(testString)\n",
    "\n",
    "\tif doPrint is True:\n",
    "\t\tprint(\"Tokenized Words:\\n\\n\",tokenized_words,\"\\n\\n\")\n",
    "\n",
    "\t\tprint(\"Tokenized Sentences:\\n\\n\",tokenized_sentences,\"\\n\\n\")\n",
    "\n",
    "\t\tfor sentences in tokenized_sentences:\n",
    "\t\t\tprint(sentences,\"\\n\")\n",
    "\n",
    "\treturn tokenized_words , tokenized_sentences"
   ]
  },
  {
   "cell_type": "markdown",
   "metadata": {},
   "source": [
    "Lets run this cell to see the output"
   ]
  },
  {
   "cell_type": "code",
   "execution_count": 6,
   "metadata": {
    "scrolled": false
   },
   "outputs": [
    {
     "name": "stdout",
     "output_type": "stream",
     "text": [
      "Tokenized Words:\n",
      "\n",
      " ['First', ',', 'we', 'must', 'be', 'good', 'stewards', 'of', 'this', 'economy', ',', 'and', 'renew', 'the', 'great', 'institutions', 'on', 'which', 'millions', 'of', 'our', 'fellow', 'citizens', 'rely', '.', 'America', \"'s\", 'economy', 'is', 'the', 'fastest', 'growing', 'of', 'any', 'major', 'industrialized', 'nation', '.', 'In', 'the', 'past', 'four', 'years', ',', 'we', 'provided', 'tax', 'relief', 'to', 'every', 'person', 'who', 'pays', 'income', 'taxes', ',', 'overcome', 'a', 'recession', ',', 'opened', 'up', 'new', 'markets', 'abroad', ',', 'prosecuted', 'corporate', 'criminals', ',', 'raised', 'homeownership', 'to', 'its', 'highest', 'level', 'in', 'history', ',', 'and', 'in', 'the', 'last', 'year', 'alone', ',', 'the', 'United', 'States', 'has', 'added', '2.3', 'million', 'new', 'jobs', '.', '(', 'Applause', '.', ')', 'When', 'action', 'was', 'needed', ',', 'the', 'Congress', 'delivered', '--', 'and', 'the', 'nation', 'is', 'grateful', '.'] \n",
      "\n",
      "\n",
      "Tokenized Sentences:\n",
      "\n",
      " ['First, we must be good stewards of this economy, and renew the great institutions on which millions of our fellow citizens rely.', \"America's economy is the fastest growing of any major industrialized nation.\", 'In the past four years, \\t\\t\\t   we provided tax relief to every person who pays income taxes, overcome a recession, opened up new markets abroad,\\t\\t\\t   prosecuted corporate criminals, raised homeownership to its highest level in history, and in the last year alone, \\t\\t\\t   the United States has added 2.3 million new jobs.', '(Applause.)', 'When action was needed, the Congress delivered -- and the nation is grateful.'] \n",
      "\n",
      "\n",
      "First, we must be good stewards of this economy, and renew the great institutions on which millions of our fellow citizens rely. \n",
      "\n",
      "America's economy is the fastest growing of any major industrialized nation. \n",
      "\n",
      "In the past four years, \t\t\t   we provided tax relief to every person who pays income taxes, overcome a recession, opened up new markets abroad,\t\t\t   prosecuted corporate criminals, raised homeownership to its highest level in history, and in the last year alone, \t\t\t   the United States has added 2.3 million new jobs. \n",
      "\n",
      "(Applause.) \n",
      "\n",
      "When action was needed, the Congress delivered -- and the nation is grateful. \n",
      "\n"
     ]
    }
   ],
   "source": [
    "tokenized_words , tokenized_sentences = tokenizeIntoSentencesAndWords(testString,doPrint=True)"
   ]
  },
  {
   "cell_type": "markdown",
   "metadata": {},
   "source": [
    "Now, We shall remove all the stop Wordsi.e, unnecessary words that occur a lot in our dataset but don't provide any useful information like 'the' , 'is' , 'are' etc. Every application has its own stop words. "
   ]
  },
  {
   "cell_type": "code",
   "execution_count": 8,
   "metadata": {},
   "outputs": [],
   "source": [
    "def removeStopWords(word_tokens,doPrint):\n",
    "\tstop_words = set(stopwords.words('english'))\n",
    "\n",
    "\tfiltered_words = []\n",
    "\n",
    "\tfor w in word_tokens:\n",
    "\t\tif not w in stop_words:\n",
    "\t\t\tfiltered_words.append(w)\t\n",
    "\n",
    "\tif doPrint is True:\n",
    "\t\tprint(\"\\n\\nWords after Removing Stop words:\\n\")\n",
    "\t\t\n",
    "\t\tprint(filtered_words)\n",
    "\n",
    "\treturn filtered_words\n"
   ]
  },
  {
   "cell_type": "code",
   "execution_count": 10,
   "metadata": {},
   "outputs": [
    {
     "name": "stdout",
     "output_type": "stream",
     "text": [
      "\n",
      "\n",
      "Words after Removing Stop words:\n",
      "\n",
      "['First', ',', 'must', 'good', 'stewards', 'economy', ',', 'renew', 'great', 'institutions', 'millions', 'fellow', 'citizens', 'rely', '.', 'America', \"'s\", 'economy', 'fastest', 'growing', 'major', 'industrialized', 'nation', '.', 'In', 'past', 'four', 'years', ',', 'provided', 'tax', 'relief', 'every', 'person', 'pays', 'income', 'taxes', ',', 'overcome', 'recession', ',', 'opened', 'new', 'markets', 'abroad', ',', 'prosecuted', 'corporate', 'criminals', ',', 'raised', 'homeownership', 'highest', 'level', 'history', ',', 'last', 'year', 'alone', ',', 'United', 'States', 'added', '2.3', 'million', 'new', 'jobs', '.', '(', 'Applause', '.', ')', 'When', 'action', 'needed', ',', 'Congress', 'delivered', '--', 'nation', 'grateful', '.']\n"
     ]
    }
   ],
   "source": [
    "filtered_words = removeStopWords(tokenized_words,doPrint = True)"
   ]
  },
  {
   "cell_type": "markdown",
   "metadata": {},
   "source": [
    "Lemmatization is replacing similar words by one word to decrease the vocabulary and to promote uniformity e.g., 'millions' and 'institutions' will be replaced by the words 'million' and 'institution'"
   ]
  },
  {
   "cell_type": "code",
   "execution_count": 13,
   "metadata": {},
   "outputs": [],
   "source": [
    "def lemmatizeWords(wordsToLemmatize,doPrint):\n",
    "\tlemmatizer = WordNetLemmatizer()\n",
    "\n",
    "\tlemmatizedWords  = []\n",
    "\n",
    "\tfor words in wordsToLemmatize:\n",
    "\t\tlemmatizedWords.append(lemmatizer.lemmatize(words))\n",
    "\n",
    "\tif doPrint is True:\n",
    "\t\tprint(lemmatizedWords)\n",
    "\t\n",
    "\treturn lemmatizedWords"
   ]
  },
  {
   "cell_type": "code",
   "execution_count": 14,
   "metadata": {},
   "outputs": [
    {
     "name": "stdout",
     "output_type": "stream",
     "text": [
      "['First', ',', 'must', 'good', 'steward', 'economy', ',', 'renew', 'great', 'institution', 'million', 'fellow', 'citizen', 'rely', '.', 'America', \"'s\", 'economy', 'fastest', 'growing', 'major', 'industrialized', 'nation', '.', 'In', 'past', 'four', 'year', ',', 'provided', 'tax', 'relief', 'every', 'person', 'pay', 'income', 'tax', ',', 'overcome', 'recession', ',', 'opened', 'new', 'market', 'abroad', ',', 'prosecuted', 'corporate', 'criminal', ',', 'raised', 'homeownership', 'highest', 'level', 'history', ',', 'last', 'year', 'alone', ',', 'United', 'States', 'added', '2.3', 'million', 'new', 'job', '.', '(', 'Applause', '.', ')', 'When', 'action', 'needed', ',', 'Congress', 'delivered', '--', 'nation', 'grateful', '.']\n"
     ]
    }
   ],
   "source": [
    "lemmatizedWords = lemmatizeWords(filtered_words,doPrint=True)"
   ]
  },
  {
   "cell_type": "markdown",
   "metadata": {},
   "source": [
    "We can classify all words as per their usage in the sentence by parts of speech tagging, you can see the documentation by setting `seeDocs = True`"
   ]
  },
  {
   "cell_type": "code",
   "execution_count": 16,
   "metadata": {},
   "outputs": [],
   "source": [
    "def POSTagging(wordsToTag,doPrint,seeDocs):\n",
    "\n",
    "\tPOSTaggedWords = pos_tag(wordsToTag)\n",
    "\n",
    "\tif doPrint is True:\n",
    "\t\tprint(POSTaggedWords)\n",
    "\n",
    "\tif seeDocs is True:\n",
    "\t\tprint(nltk.help.upenn_tagset())\n",
    "\n",
    "\treturn POSTaggedWords"
   ]
  },
  {
   "cell_type": "code",
   "execution_count": 17,
   "metadata": {
    "scrolled": false
   },
   "outputs": [
    {
     "name": "stdout",
     "output_type": "stream",
     "text": [
      "[('First', 'RB'), (',', ','), ('must', 'MD'), ('good', 'VB'), ('steward', 'NN'), ('economy', 'NN'), (',', ','), ('renew', 'JJ'), ('great', 'JJ'), ('institution', 'NN'), ('million', 'CD'), ('fellow', 'JJ'), ('citizen', 'NNS'), ('rely', 'RB'), ('.', '.'), ('America', 'NNP'), (\"'s\", 'POS'), ('economy', 'NN'), ('fastest', 'JJS'), ('growing', 'VBG'), ('major', 'JJ'), ('industrialized', 'VBN'), ('nation', 'NN'), ('.', '.'), ('In', 'IN'), ('past', 'JJ'), ('four', 'CD'), ('year', 'NN'), (',', ','), ('provided', 'VBD'), ('tax', 'NN'), ('relief', 'NN'), ('every', 'DT'), ('person', 'NN'), ('pay', 'VB'), ('income', 'NN'), ('tax', 'NN'), (',', ','), ('overcome', 'JJ'), ('recession', 'NN'), (',', ','), ('opened', 'VBD'), ('new', 'JJ'), ('market', 'NN'), ('abroad', 'RB'), (',', ','), ('prosecuted', 'JJ'), ('corporate', 'JJ'), ('criminal', 'NN'), (',', ','), ('raised', 'VBD'), ('homeownership', 'NN'), ('highest', 'JJS'), ('level', 'NN'), ('history', 'NN'), (',', ','), ('last', 'JJ'), ('year', 'NN'), ('alone', 'RB'), (',', ','), ('United', 'NNP'), ('States', 'NNPS'), ('added', 'VBD'), ('2.3', 'CD'), ('million', 'CD'), ('new', 'JJ'), ('job', 'NN'), ('.', '.'), ('(', '('), ('Applause', 'NNP'), ('.', '.'), (')', ')'), ('When', 'WRB'), ('action', 'NN'), ('needed', 'VBD'), (',', ','), ('Congress', 'NNP'), ('delivered', 'VBD'), ('--', ':'), ('nation', 'NN'), ('grateful', 'NN'), ('.', '.')]\n",
      "$: dollar\n",
      "    $ -$ --$ A$ C$ HK$ M$ NZ$ S$ U.S.$ US$\n",
      "'': closing quotation mark\n",
      "    ' ''\n",
      "(: opening parenthesis\n",
      "    ( [ {\n",
      "): closing parenthesis\n",
      "    ) ] }\n",
      ",: comma\n",
      "    ,\n",
      "--: dash\n",
      "    --\n",
      ".: sentence terminator\n",
      "    . ! ?\n",
      ":: colon or ellipsis\n",
      "    : ; ...\n",
      "CC: conjunction, coordinating\n",
      "    & 'n and both but either et for less minus neither nor or plus so\n",
      "    therefore times v. versus vs. whether yet\n",
      "CD: numeral, cardinal\n",
      "    mid-1890 nine-thirty forty-two one-tenth ten million 0.5 one forty-\n",
      "    seven 1987 twenty '79 zero two 78-degrees eighty-four IX '60s .025\n",
      "    fifteen 271,124 dozen quintillion DM2,000 ...\n",
      "DT: determiner\n",
      "    all an another any both del each either every half la many much nary\n",
      "    neither no some such that the them these this those\n",
      "EX: existential there\n",
      "    there\n",
      "FW: foreign word\n",
      "    gemeinschaft hund ich jeux habeas Haementeria Herr K'ang-si vous\n",
      "    lutihaw alai je jour objets salutaris fille quibusdam pas trop Monte\n",
      "    terram fiche oui corporis ...\n",
      "IN: preposition or conjunction, subordinating\n",
      "    astride among uppon whether out inside pro despite on by throughout\n",
      "    below within for towards near behind atop around if like until below\n",
      "    next into if beside ...\n",
      "JJ: adjective or numeral, ordinal\n",
      "    third ill-mannered pre-war regrettable oiled calamitous first separable\n",
      "    ectoplasmic battery-powered participatory fourth still-to-be-named\n",
      "    multilingual multi-disciplinary ...\n",
      "JJR: adjective, comparative\n",
      "    bleaker braver breezier briefer brighter brisker broader bumper busier\n",
      "    calmer cheaper choosier cleaner clearer closer colder commoner costlier\n",
      "    cozier creamier crunchier cuter ...\n",
      "JJS: adjective, superlative\n",
      "    calmest cheapest choicest classiest cleanest clearest closest commonest\n",
      "    corniest costliest crassest creepiest crudest cutest darkest deadliest\n",
      "    dearest deepest densest dinkiest ...\n",
      "LS: list item marker\n",
      "    A A. B B. C C. D E F First G H I J K One SP-44001 SP-44002 SP-44005\n",
      "    SP-44007 Second Third Three Two * a b c d first five four one six three\n",
      "    two\n",
      "MD: modal auxiliary\n",
      "    can cannot could couldn't dare may might must need ought shall should\n",
      "    shouldn't will would\n",
      "NN: noun, common, singular or mass\n",
      "    common-carrier cabbage knuckle-duster Casino afghan shed thermostat\n",
      "    investment slide humour falloff slick wind hyena override subhumanity\n",
      "    machinist ...\n",
      "NNP: noun, proper, singular\n",
      "    Motown Venneboerger Czestochwa Ranzer Conchita Trumplane Christos\n",
      "    Oceanside Escobar Kreisler Sawyer Cougar Yvette Ervin ODI Darryl CTCA\n",
      "    Shannon A.K.C. Meltex Liverpool ...\n",
      "NNPS: noun, proper, plural\n",
      "    Americans Americas Amharas Amityvilles Amusements Anarcho-Syndicalists\n",
      "    Andalusians Andes Andruses Angels Animals Anthony Antilles Antiques\n",
      "    Apache Apaches Apocrypha ...\n",
      "NNS: noun, common, plural\n",
      "    undergraduates scotches bric-a-brac products bodyguards facets coasts\n",
      "    divestitures storehouses designs clubs fragrances averages\n",
      "    subjectivists apprehensions muses factory-jobs ...\n",
      "PDT: pre-determiner\n",
      "    all both half many quite such sure this\n",
      "POS: genitive marker\n",
      "    ' 's\n",
      "PRP: pronoun, personal\n",
      "    hers herself him himself hisself it itself me myself one oneself ours\n",
      "    ourselves ownself self she thee theirs them themselves they thou thy us\n",
      "PRP$: pronoun, possessive\n",
      "    her his mine my our ours their thy your\n",
      "RB: adverb\n",
      "    occasionally unabatingly maddeningly adventurously professedly\n",
      "    stirringly prominently technologically magisterially predominately\n",
      "    swiftly fiscally pitilessly ...\n",
      "RBR: adverb, comparative\n",
      "    further gloomier grander graver greater grimmer harder harsher\n",
      "    healthier heavier higher however larger later leaner lengthier less-\n",
      "    perfectly lesser lonelier longer louder lower more ...\n",
      "RBS: adverb, superlative\n",
      "    best biggest bluntest earliest farthest first furthest hardest\n",
      "    heartiest highest largest least less most nearest second tightest worst\n",
      "RP: particle\n",
      "    aboard about across along apart around aside at away back before behind\n",
      "    by crop down ever fast for forth from go high i.e. in into just later\n",
      "    low more off on open out over per pie raising start teeth that through\n",
      "    under unto up up-pp upon whole with you\n",
      "SYM: symbol\n",
      "    % & ' '' ''. ) ). * + ,. < = > @ A[fj] U.S U.S.S.R * ** ***\n",
      "TO: \"to\" as preposition or infinitive marker\n",
      "    to\n",
      "UH: interjection\n",
      "    Goodbye Goody Gosh Wow Jeepers Jee-sus Hubba Hey Kee-reist Oops amen\n",
      "    huh howdy uh dammit whammo shucks heck anyways whodunnit honey golly\n",
      "    man baby diddle hush sonuvabitch ...\n",
      "VB: verb, base form\n",
      "    ask assemble assess assign assume atone attention avoid bake balkanize\n",
      "    bank begin behold believe bend benefit bevel beware bless boil bomb\n",
      "    boost brace break bring broil brush build ...\n",
      "VBD: verb, past tense\n",
      "    dipped pleaded swiped regummed soaked tidied convened halted registered\n",
      "    cushioned exacted snubbed strode aimed adopted belied figgered\n",
      "    speculated wore appreciated contemplated ...\n",
      "VBG: verb, present participle or gerund\n",
      "    telegraphing stirring focusing angering judging stalling lactating\n",
      "    hankerin' alleging veering capping approaching traveling besieging\n",
      "    encrypting interrupting erasing wincing ...\n",
      "VBN: verb, past participle\n",
      "    multihulled dilapidated aerosolized chaired languished panelized used\n",
      "    experimented flourished imitated reunifed factored condensed sheared\n",
      "    unsettled primed dubbed desired ...\n",
      "VBP: verb, present tense, not 3rd person singular\n",
      "    predominate wrap resort sue twist spill cure lengthen brush terminate\n",
      "    appear tend stray glisten obtain comprise detest tease attract\n",
      "    emphasize mold postpone sever return wag ...\n",
      "VBZ: verb, present tense, 3rd person singular\n",
      "    bases reconstructs marks mixes displeases seals carps weaves snatches\n",
      "    slumps stretches authorizes smolders pictures emerges stockpiles\n",
      "    seduces fizzes uses bolsters slaps speaks pleads ...\n",
      "WDT: WH-determiner\n",
      "    that what whatever which whichever\n",
      "WP: WH-pronoun\n",
      "    that what whatever whatsoever which who whom whosoever\n",
      "WP$: WH-pronoun, possessive\n",
      "    whose\n",
      "WRB: Wh-adverb\n",
      "    how however whence whenever where whereby whereever wherein whereof why\n",
      "``: opening quotation mark\n",
      "    ` ``\n",
      "None\n"
     ]
    }
   ],
   "source": [
    "POSTaggedWords = POSTagging(lemmatizedWords,doPrint=True,seeDocs=True)"
   ]
  }
 ],
 "metadata": {
  "kernelspec": {
   "display_name": "Python 3",
   "language": "python",
   "name": "python3"
  },
  "language_info": {
   "codemirror_mode": {
    "name": "ipython",
    "version": 3
   },
   "file_extension": ".py",
   "mimetype": "text/x-python",
   "name": "python",
   "nbconvert_exporter": "python",
   "pygments_lexer": "ipython3",
   "version": "3.5.2"
  }
 },
 "nbformat": 4,
 "nbformat_minor": 2
}
